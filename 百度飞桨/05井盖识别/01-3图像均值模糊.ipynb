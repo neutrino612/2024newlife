{
 "cells": [
  {
   "cell_type": "markdown",
   "metadata": {},
   "source": [
    "比较常见的卷积核（5*5的卷积核中每个值均为1）是用当前像素跟它邻域内的像素取平均，这样可以使图像上噪声比较大的点变得更平滑"
   ]
  },
  {
   "cell_type": "code",
   "execution_count": null,
   "metadata": {},
   "outputs": [],
   "source": [
    "import paddle\n",
    "import matplotlib.pyplot as plt\n",
    "from PIL import Image\n",
    "import numpy as np\n",
    "from paddle.nn import Conv2D\n",
    "from paddle.nn.initializer import Assign\n",
    "# 读入图片并转成numpy.ndarray\n",
    "# 换成灰度图\n",
    "img = Image.open('./work/images/section1/000000355610.jpg').convert('L')\n",
    "img = np.array(img)\n",
    "\n",
    "# 创建初始化参数\n",
    "w = np.ones([1, 1, 5, 5], dtype = 'float32')/25\n",
    "conv = Conv2D(in_channels=1, out_channels=1, kernel_size=[5, 5], \n",
    "        weight_attr=paddle.ParamAttr(\n",
    "         initializer=Assign(value=w)))\n",
    "x = img.astype('float32')\n",
    "x = x.reshape(1,1,img.shape[0], img.shape[1])\n",
    "x = paddle.to_tensor(x)\n",
    "y = conv(x)\n",
    "out = y.numpy()\n",
    "\n",
    "plt.figure(figsize=(20, 12))\n",
    "f = plt.subplot(121)\n",
    "f.set_title('input image')\n",
    "plt.imshow(img, cmap='gray')\n",
    "\n",
    "f = plt.subplot(122)\n",
    "f.set_title('output feature map')\n",
    "out = out.squeeze()\n",
    "plt.imshow(out, cmap='gray')\n",
    "\n",
    "plt.show()\n"
   ]
  },
  {
   "cell_type": "code",
   "execution_count": null,
   "metadata": {},
   "outputs": [],
   "source": []
  }
 ],
 "metadata": {
  "kernelspec": {
   "display_name": "paddle_24",
   "language": "python",
   "name": "python3"
  },
  "language_info": {
   "name": "python",
   "version": "3.9.18"
  }
 },
 "nbformat": 4,
 "nbformat_minor": 2
}
