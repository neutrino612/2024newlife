{
 "cells": [
  {
   "cell_type": "code",
   "execution_count": 4,
   "metadata": {},
   "outputs": [],
   "source": [
    "import numpy as np\n",
    "from pycocotools import mask\n",
    "from PIL import Image\n",
    "import json\n",
    "# 读取图像文件\n",
    "image = Image.open('D:\\work\\无人机AI识别项目\\待标注\\DJI_20240616080153_0010_V.jpeg')\n",
    "width, height = image.size\n",
    "# 创建标注信息\n",
    "bbox = [100, 100, 200, 200]  # 边界框坐标，格式为[xmin, ymin, width, height]\n",
    "class_id = 'floatsam'  # 类别ID，可以根据需要自行定义\n",
    "score = 0.9  # 置信度"
   ]
  },
  {
   "cell_type": "code",
   "execution_count": 5,
   "metadata": {},
   "outputs": [],
   "source": [
    "# 将边界框坐标转换为像素值\n",
    "bbox = [int(x / width * width) for x in bbox]\n",
    "# 创建边界框和类别信息\n",
    "bbox_coco = [bbox[0], bbox[1], bbox[2], bbox[3], score]  # COCO格式的边界框信息，包括边界框坐标和置信度\n",
    "category_info = {'id': class_id, 'name': 'object', 'supercategory': '', 'is_crowd': False}\n",
    "annotations = [{'iscrowd': 0, 'segmentation': [], 'area': bbox[2] * bbox[3], 'image_id': 1, 'bbox': bbox_coco, 'category_id': class_id, 'id': 1, 'ignore': 0}]  # COCO格式的标注信息，包括边界框、类别、分割信息和置信度等\n",
    "# 将标注信息写入JSON文件\n",
    "with open('annotations.json', 'w') as f:\n",
    "    json.dump(annotations, f)"
   ]
  }
 ],
 "metadata": {
  "kernelspec": {
   "display_name": "paddle_24",
   "language": "python",
   "name": "python3"
  },
  "language_info": {
   "codemirror_mode": {
    "name": "ipython",
    "version": 3
   },
   "file_extension": ".py",
   "mimetype": "text/x-python",
   "name": "python",
   "nbconvert_exporter": "python",
   "pygments_lexer": "ipython3",
   "version": "3.9.18"
  }
 },
 "nbformat": 4,
 "nbformat_minor": 2
}
