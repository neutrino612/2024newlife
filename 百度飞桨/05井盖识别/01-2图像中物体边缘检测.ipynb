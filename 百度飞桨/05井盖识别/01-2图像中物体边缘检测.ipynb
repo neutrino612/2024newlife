{
 "cells": [
  {
   "cell_type": "code",
   "execution_count": null,
   "metadata": {},
   "outputs": [],
   "source": [
    "import matplotlib.pyplot as plt\n",
    "from PIL import Image\n",
    "import numpy as np\n",
    "import paddle\n",
    "from paddle.nn import Conv2D\n",
    "from paddle.nn.initializer import Assign\n",
    "img = Image.open('./work/images/section1/000000098520.jpg')\n",
    "\n",
    "# 设置卷积核参数\n",
    "w = np.array([[-1,-1,-1], [-1,8,-1], [-1,-1,-1]], dtype='float32')/8\n",
    "w = w.reshape([1, 1, 3, 3])\n",
    "# 由于输入通道数是3，将卷积核的形状从[1,1,3,3]调整为[1,3,3,3]\n",
    "w = np.repeat(w, 3, axis=1)\n",
    "# 创建卷积算子，输出通道数为1，卷积核大小为3x3，\n",
    "# 并使用上面的设置好的数值作为卷积核权重的初始化参数\n",
    "conv = Conv2D(in_channels=3, out_channels=1, kernel_size=[3, 3], \n",
    "            weight_attr=paddle.ParamAttr(\n",
    "              initializer=Assign(value=w)))\n",
    "    \n",
    "# 将读入的图片转化为float32类型的numpy.ndarray\n",
    "x = np.array(img).astype('float32')\n",
    "# 图片读入成ndarry时，形状是[H, W, 3]，\n",
    "# 将通道这一维度调整到最前面\n",
    "x = np.transpose(x, (2,0,1))\n",
    "# 将数据形状调整为[N, C, H, W]格式\n",
    "x = x.reshape(1, 3, img.height, img.width)\n",
    "x = paddle.to_tensor(x)\n",
    "y = conv(x)\n",
    "out = y.numpy()\n",
    "plt.figure(figsize=(20, 10))\n",
    "f = plt.subplot(121)\n",
    "f.set_title('input image', fontsize=15)\n",
    "plt.imshow(img)\n",
    "f = plt.subplot(122)\n",
    "f.set_title('output feature map', fontsize=15)\n",
    "plt.imshow(out.squeeze(), cmap='gray')\n",
    "plt.show()"
   ]
  }
 ],
 "metadata": {
  "kernelspec": {
   "display_name": "paddle_24",
   "language": "python",
   "name": "python3"
  },
  "language_info": {
   "name": "python",
   "version": "3.9.18"
  }
 },
 "nbformat": 4,
 "nbformat_minor": 2
}
