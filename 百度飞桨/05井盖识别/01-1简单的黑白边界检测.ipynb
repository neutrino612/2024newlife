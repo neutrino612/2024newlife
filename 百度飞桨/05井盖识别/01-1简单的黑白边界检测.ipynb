{
 "cells": [
  {
   "cell_type": "code",
   "execution_count": 1,
   "metadata": {},
   "outputs": [],
   "source": [
    "import matplotlib.pyplot as plt\n",
    "import numpy as np\n",
    "import paddle\n",
    "from paddle.nn import Conv2D\n",
    "from paddle.nn.initializer import Assign\n",
    "%matplotlib inline"
   ]
  },
  {
   "cell_type": "code",
   "execution_count": 2,
   "metadata": {},
   "outputs": [],
   "source": [
    "# 创建初始化权重参数w  设置宽度方向的卷积核为[1,0,−1]\n",
    "w = np.array([1, 0, -1], dtype='float32')\n",
    "# 将权重参数调整成维度为[cout, cin, kh, kw]的四维张量\n",
    "w = w.reshape([1, 1, 1, 3])"
   ]
  },
  {
   "cell_type": "code",
   "execution_count": 3,
   "metadata": {},
   "outputs": [],
   "source": [
    "# 创建卷积算子，设置输出通道数，卷积核大小，和初始化权重参数\n",
    "# kernel_size = [1, 3]表示kh = 1, kw=3\n",
    "# 创建卷积算子的时候，通过参数属性weight_attr指定参数初始化方式\n",
    "# 这里的初始化方式时，从numpy.ndarray初始化卷积参数\n",
    "conv = Conv2D(in_channels=1, out_channels=1, kernel_size=[1, 3],\n",
    "       weight_attr=paddle.ParamAttr(\n",
    "          initializer=Assign(value=w)))"
   ]
  },
  {
   "cell_type": "code",
   "execution_count": 4,
   "metadata": {},
   "outputs": [
    {
     "ename": "",
     "evalue": "",
     "output_type": "error",
     "traceback": [
      "\u001b[1;31m在当前单元格或上一个单元格中执行代码时 Kernel 崩溃。\n",
      "\u001b[1;31m请查看单元格中的代码，以确定故障的可能原因。\n",
      "\u001b[1;31m单击<a href='https://aka.ms/vscodeJupyterKernelCrash'>此处</a>了解详细信息。\n",
      "\u001b[1;31m有关更多详细信息，请查看 Jupyter <a href='command:jupyter.viewOutput'>log</a>。"
     ]
    }
   ],
   "source": [
    "# 创建输入图片，图片左边的像素点取值为1，右边的像素点取值为0\n",
    "img = np.ones([50,50], dtype='float32')\n",
    "img[:, 30:] = 0.\n",
    "# 将图片形状调整为[N, C, H, W]的形式\n",
    "x = img.reshape([1,1,50,50])\n",
    "# 将numpy.ndarray转化成paddle中的tensor\n",
    "x = paddle.to_tensor(x)\n",
    "# 使用卷积算子作用在输入图片上\n",
    "y = conv(x)\n",
    "# 将输出tensor转化为numpy.ndarray\n",
    "out = y.numpy()\n",
    "f = plt.subplot(121)\n",
    "f.set_title('input image', fontsize=15)\n",
    "plt.imshow(img, cmap='gray')\n",
    "f = plt.subplot(122)\n",
    "f.set_title('output featuremap', fontsize=15)\n",
    "# 卷积算子Conv2D输出数据形状为[N, C, H, W]形式\n",
    "# 此处N, C=1，输出数据形状为[1, 1, H, W]，是4维数组\n",
    "# 但是画图函数plt.imshow画灰度图时，只接受2维数组\n",
    "# 通过numpy.squeeze函数将大小为1的维度消除\n",
    "plt.imshow(out.squeeze(), cmap='gray')\n",
    "plt.show()"
   ]
  },
  {
   "cell_type": "code",
   "execution_count": null,
   "metadata": {},
   "outputs": [],
   "source": [
    "# 查看卷积层的权重参数名字和数值\n",
    "print(conv.weight)\n",
    "# 参看卷积层的偏置参数名字和数值\n",
    "print(conv.bias)"
   ]
  }
 ],
 "metadata": {
  "kernelspec": {
   "display_name": "paddle_24",
   "language": "python",
   "name": "python3"
  },
  "language_info": {
   "codemirror_mode": {
    "name": "ipython",
    "version": 3
   },
   "file_extension": ".py",
   "mimetype": "text/x-python",
   "name": "python",
   "nbconvert_exporter": "python",
   "pygments_lexer": "ipython3",
   "version": "3.9.18"
  }
 },
 "nbformat": 4,
 "nbformat_minor": 2
}
