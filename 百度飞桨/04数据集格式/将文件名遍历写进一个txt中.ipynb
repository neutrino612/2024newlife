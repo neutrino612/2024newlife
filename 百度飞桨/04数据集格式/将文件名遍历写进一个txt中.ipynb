{
 "cells": [
  {
   "cell_type": "code",
   "execution_count": 10,
   "metadata": {},
   "outputs": [],
   "source": [
    "import os\n",
    "\n",
    "def write_xml_filenames_to_txt(folder_path, output_file):\n",
    "    \"\"\"\n",
    "    遍历指定文件夹，将其中的文件名写入一个txt文件中。\n",
    "\n",
    "    参数：\n",
    "    folder_path (str): 要遍历的文件夹路径。\n",
    "    output_file (str): 输出文件的路径。\n",
    "    \"\"\"\n",
    "    with open(output_file, 'w') as f:\n",
    "        for root, dirs, files in os.walk(folder_path):\n",
    "            for file in files:\n",
    "                if file.endswith('.xml'):\n",
    "                    f.write(file + '\\n')\n",
    "\n",
    "# 示例用法\n",
    "folder_path = 'D:\\work\\无人机AI识别项目\\待标注\\标注训练集\\飞桨xmls'  # 请替换为实际文件夹路径\n",
    "output_file = 'D:\\work\\无人机AI识别项目\\待标注\\标注训练集\\飞桨\\list.txt'  # 输出文件名\n",
    "write_xml_filenames_to_txt(folder_path, output_file)\n",
    "\n"
   ]
  }
 ],
 "metadata": {
  "kernelspec": {
   "display_name": "paddle_24",
   "language": "python",
   "name": "python3"
  },
  "language_info": {
   "codemirror_mode": {
    "name": "ipython",
    "version": 3
   },
   "file_extension": ".py",
   "mimetype": "text/x-python",
   "name": "python",
   "nbconvert_exporter": "python",
   "pygments_lexer": "ipython3",
   "version": "3.9.18"
  }
 },
 "nbformat": 4,
 "nbformat_minor": 2
}
