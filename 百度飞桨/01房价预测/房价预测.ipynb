{
 "cells": [
  {
   "cell_type": "code",
   "execution_count": null,
   "metadata": {},
   "outputs": [
    {
     "ename": "",
     "evalue": "",
     "output_type": "error",
     "traceback": [
      "\u001b[1;31m运行具有“paddle_env”的单元格需要ipykernel包。\n",
      "\u001b[1;31mRun the following command to install 'ipykernel' into the Python environment. \n",
      "\u001b[1;31mCommand: 'conda install -n paddle_env ipykernel --update-deps --force-reinstall'"
     ]
    }
   ],
   "source": [
    "#加载飞桨、NumPy和相关类库\n",
    "import paddle\n",
    "from paddle.nn import Linear\n",
    "import paddle.nn.functional as F\n",
    "import numpy as np\n",
    "import os\n",
    "import random"
   ]
  },
  {
   "cell_type": "markdown",
   "metadata": {},
   "source": [
    "# 数据导入模块  \n",
    "包括数据整形  归一化处理  测试集和评价集划分"
   ]
  },
  {
   "cell_type": "code",
   "execution_count": 21,
   "metadata": {},
   "outputs": [],
   "source": [
    "def load_data():\n",
    "    # 从文件导入数据\n",
    "    datafile = 'housing.data'\n",
    "    data = np.fromfile(datafile, sep=' ', dtype=np.float32)\n",
    "\n",
    "    # 每条数据包括14项，其中前面13项是影响因素，第14项是相应的房屋价格中位数\n",
    "    feature_names = [ 'CRIM', 'ZN', 'INDUS', 'CHAS', 'NOX', 'RM', 'AGE', \\\n",
    "                      'DIS', 'RAD', 'TAX', 'PTRATIO', 'B', 'LSTAT', 'MEDV' ]\n",
    "    feature_num = len(feature_names)\n",
    "\n",
    "    # 将原始数据进行Reshape，变成[N, 14]这样的形状\n",
    "    data = data.reshape([data.shape[0] // feature_num, feature_num])\n",
    "\n",
    "    # 将原数据集拆分成训练集和测试集\n",
    "    # 这里使用80%的数据做训练，20%的数据做测试\n",
    "    # 测试集和训练集必须是没有交集的\n",
    "    ratio = 0.8\n",
    "    offset = int(data.shape[0] * ratio)\n",
    "    training_data = data[:offset]\n",
    "\n",
    "    # 计算train数据集的最大值，最小值\n",
    "    maximums, minimums = training_data.max(axis=0), training_data.min(axis=0)\n",
    "  \n",
    "    # 记录数据的归一化参数，在预测时对数据做归一化\n",
    "    global max_values\n",
    "    global min_values\n",
    "   \n",
    "    max_values = maximums\n",
    "    min_values = minimums\n",
    "  \n",
    "    # 对数据进行归一化处理\n",
    "    for i in range(feature_num):\n",
    "        data[:, i] = (data[:, i] - min_values[i]) / (maximums[i] - minimums[i])\n",
    "\n",
    "\n",
    " # 训练集和测试集的划分比例\n",
    "    training_data = data[:offset]\n",
    "    test_data = data[offset:]\n",
    "    return training_data, test_data\n"
   ]
  },
  {
   "cell_type": "code",
   "execution_count": 26,
   "metadata": {},
   "outputs": [
    {
     "name": "stdout",
     "output_type": "stream",
     "text": [
      "(404, 14)\n",
      "[2.35922547e-04 0.00000000e+00 2.62405723e-01 0.00000000e+00\n",
      " 1.72839552e-01 5.47997713e-01 7.82698274e-01 3.48961979e-01\n",
      " 4.34782617e-02 1.14822544e-01 5.53191364e-01 1.00000000e+00\n",
      " 2.04470202e-01 3.68888885e-01]\n",
      "(102, 14)\n",
      "[0.76334244 0.         0.7002779  0.         0.6337449  0.4065913\n",
      " 1.         0.02689848 1.         1.         0.8085107  0.96341616\n",
      " 0.5863686  0.        ]\n"
     ]
    }
   ],
   "source": [
    "# 验证数据集读取程序的正确性\n",
    "training_data, test_data = load_data()\n",
    "print(training_data.shape)\n",
    "print(training_data[1,:])\n",
    "print(test_data.shape)\n",
    "print(test_data[1,:])"
   ]
  },
  {
   "cell_type": "markdown",
   "metadata": {},
   "source": [
    "# 定义模型\n",
    "包含网络结构\n",
    "前向计算模块"
   ]
  },
  {
   "cell_type": "code",
   "execution_count": 15,
   "metadata": {},
   "outputs": [],
   "source": [
    "class Regressor(paddle.nn.Layer):\n",
    "\n",
    "    # self代表类的实例自身\n",
    "    def __init__(self):\n",
    "        # 初始化父类中的一些参数\n",
    "        super(Regressor, self).__init__()\n",
    "  \n",
    "        # 定义一层全连接层，输入维度是13，输出维度是1\n",
    "        self.fc = Linear(in_features=13, out_features=1)\n",
    "  \n",
    "    # 网络的前向计算\n",
    "    def forward(self, inputs):\n",
    "        x = self.fc(inputs)\n",
    "        return x"
   ]
  },
  {
   "cell_type": "markdown",
   "metadata": {},
   "source": [
    "# 模型声明，模型状态训练开启\n",
    "关于模型的声明，通过参数调用，模型训练的开启以及学习率设置"
   ]
  },
  {
   "cell_type": "code",
   "execution_count": 23,
   "metadata": {},
   "outputs": [],
   "source": [
    "# 声明定义好的线性回归模型\n",
    "model = Regressor()\n",
    "# 开启模型训练模式\n",
    "model.train()\n",
    "# 定义优化算法，使用随机梯度下降SGD\n",
    "# 学习率设置为0.01\n",
    "opt = paddle.optimizer.SGD(learning_rate=0.01, parameters=model.parameters())"
   ]
  },
  {
   "cell_type": "markdown",
   "metadata": {},
   "source": [
    "# 训练过程\n",
    "1包含训练数据循环次数和数据块大小，转化张量\n",
    "2调用模型训练\n",
    "3损失函数计算\n",
    "4优化函数\n",
    "在PaddlePaddle中，backward()方法的具体使用取决于你的需求：\n",
    "\n",
    "如果你有一个标量（scalar）结果，比如一个损失函数的值，你可以直接对这个标量调用backward()，PaddlePaddle会自动计算整个网络的梯度。\n",
    "\n",
    "如果你有一个非标量的输出，比如一个向量或矩阵，你需要首先用paddle.mean()或其他方法将其归约为一个标量，然后再调用backward()。\n",
    "\n",
    "你也可以直接对一个中间变量（比如网络中的某个隐藏层的输出）调用backward()，但这通常不是整个网络的损失函数，所以只有在特殊情况下才会这样做。\n",
    "\n"
   ]
  },
  {
   "cell_type": "code",
   "execution_count": 24,
   "metadata": {},
   "outputs": [
    {
     "name": "stdout",
     "output_type": "stream",
     "text": [
      "epoch: 0, iter: 0, loss is: 0.9277139902114868\n",
      "epoch: 0, iter: 20, loss is: 0.3200933337211609\n",
      "epoch: 0, iter: 40, loss is: 0.18067634105682373\n",
      "epoch: 1, iter: 0, loss is: 0.22659127414226532\n",
      "epoch: 1, iter: 20, loss is: 0.18577122688293457\n",
      "epoch: 1, iter: 40, loss is: 0.24033069610595703\n",
      "epoch: 2, iter: 0, loss is: 0.1494569480419159\n",
      "epoch: 2, iter: 20, loss is: 0.04799516871571541\n",
      "epoch: 2, iter: 40, loss is: 0.1554272323846817\n",
      "epoch: 3, iter: 0, loss is: 0.1545664370059967\n",
      "epoch: 3, iter: 20, loss is: 0.07703548669815063\n",
      "epoch: 3, iter: 40, loss is: 0.2267395257949829\n",
      "epoch: 4, iter: 0, loss is: 0.1393933743238449\n",
      "epoch: 4, iter: 20, loss is: 0.09830181300640106\n",
      "epoch: 4, iter: 40, loss is: 0.11449439823627472\n",
      "epoch: 5, iter: 0, loss is: 0.06901063770055771\n",
      "epoch: 5, iter: 20, loss is: 0.1642816811800003\n",
      "epoch: 5, iter: 40, loss is: 0.13635900616645813\n",
      "epoch: 6, iter: 0, loss is: 0.10634420812129974\n",
      "epoch: 6, iter: 20, loss is: 0.05928543210029602\n",
      "epoch: 6, iter: 40, loss is: 0.0418657548725605\n",
      "epoch: 7, iter: 0, loss is: 0.09680455923080444\n",
      "epoch: 7, iter: 20, loss is: 0.039700232446193695\n",
      "epoch: 7, iter: 40, loss is: 0.02291841059923172\n",
      "epoch: 8, iter: 0, loss is: 0.06378708779811859\n",
      "epoch: 8, iter: 20, loss is: 0.06269790232181549\n",
      "epoch: 8, iter: 40, loss is: 0.07314781099557877\n",
      "epoch: 9, iter: 0, loss is: 0.04674651473760605\n",
      "epoch: 9, iter: 20, loss is: 0.052247755229473114\n",
      "epoch: 9, iter: 40, loss is: 0.11108843982219696\n"
     ]
    }
   ],
   "source": [
    "EPOCH_NUM = 10   # 设置外层循环次数\n",
    "BATCH_SIZE = 10  # 设置batch大小\n",
    "\n",
    "# 定义外层循环\n",
    "for epoch_id in range(EPOCH_NUM):\n",
    "    # 在每轮迭代开始之前，将训练数据的顺序随机的打乱\n",
    "    np.random.shuffle(training_data)\n",
    "    # 将训练数据进行拆分，每个batch包含10条数据\n",
    "    mini_batches = [training_data[k:k+BATCH_SIZE] for k in range(0, len(training_data), BATCH_SIZE)]\n",
    "    # 定义内层循环\n",
    "    for iter_id, mini_batch in enumerate(mini_batches):\n",
    "        x = np.array(mini_batch[:, :-1]) # 获得当前批次训练数据\n",
    "        y = np.array(mini_batch[:, -1:]) # 获得当前批次训练标签（真实房价）\n",
    "        # 将numpy数据转为飞桨动态图tensor的格式\n",
    "        house_features = paddle.to_tensor(x)\n",
    "        prices = paddle.to_tensor(y)\n",
    "  \n",
    "        # 前向计算\n",
    "        predicts = model(house_features)\n",
    "  \n",
    "        # 计算损失\n",
    "        loss = F.square_error_cost(predicts, label=prices)\n",
    "        avg_loss = paddle.mean(loss)\n",
    "        if iter_id%20==0:\n",
    "            print(\"epoch: {}, iter: {}, loss is: {}\".format(epoch_id, iter_id, avg_loss.numpy()))\n",
    "  \n",
    "        # 反向传播，计算每层参数的梯度值，backward()是paddlepaddle框架中Tensor类的方法，调用一个tensor的backward方法\n",
    "        avg_loss.backward()\n",
    "        # 更新参数，根据设置好的学习率迭代一步\n",
    "        opt.step()\n",
    "        # 清空梯度变量，以备下一轮计算\n",
    "        opt.clear_grad()"
   ]
  },
  {
   "cell_type": "code",
   "execution_count": 25,
   "metadata": {},
   "outputs": [
    {
     "name": "stdout",
     "output_type": "stream",
     "text": [
      "模型保存成功，模型参数保存在LR_model.pdparams中\n"
     ]
    }
   ],
   "source": [
    "# 保存模型参数，文件名为LR_model.pdparams\n",
    "paddle.save(model.state_dict(), 'LR_model.pdparams')\n",
    "print(\"模型保存成功，模型参数保存在LR_model.pdparams中\")"
   ]
  },
  {
   "cell_type": "code",
   "execution_count": 27,
   "metadata": {},
   "outputs": [],
   "source": [
    "def load_one_example():\n",
    "    # 从上边已加载的测试集中，随机选择一条作为测试数据\n",
    "    idx = np.random.randint(0, test_data.shape[0])\n",
    "    idx = -10\n",
    "    one_data, label = test_data[idx, :-1], test_data[idx, -1:]\n",
    "    # 修改该条数据shape为[1,13]\n",
    "    one_data =  one_data.reshape([1,13])\n",
    "\n",
    "    return one_data, label"
   ]
  },
  {
   "cell_type": "code",
   "execution_count": 28,
   "metadata": {},
   "outputs": [
    {
     "name": "stdout",
     "output_type": "stream",
     "text": [
      "Inference result is [[20.891407]], the corresponding label is [19.7]\n"
     ]
    }
   ],
   "source": [
    "# 参数为保存模型参数的文件地址\n",
    "model_dict = paddle.load('LR_model.pdparams')\n",
    "model.load_dict(model_dict)\n",
    "model.eval()  # 参数为数据集的文件地址\n",
    "\n",
    "\n",
    "one_data, label = load_one_example()\n",
    "# 将数据转为动态图的variable格式 \n",
    "one_data = paddle.to_tensor(one_data)\n",
    "predict = model(one_data)\n",
    "\n",
    "# 对结果做反归一化处理\n",
    "predict = predict * (max_values[-1] - min_values[-1]) + min_values[-1]\n",
    "# 对label数据做反归一化处理\n",
    "label = label * (max_values[-1] - min_values[-1]) + min_values[-1]\n",
    "\n",
    "print(\"Inference result is {}, the corresponding label is {}\".format(predict.numpy(), label))"
   ]
  },
  {
   "cell_type": "markdown",
   "metadata": {},
   "source": []
  }
 ],
 "metadata": {
  "kernelspec": {
   "display_name": "paddle_env",
   "language": "python",
   "name": "python3"
  },
  "language_info": {
   "name": "python",
   "version": "3.9.19"
  }
 },
 "nbformat": 4,
 "nbformat_minor": 2
}
